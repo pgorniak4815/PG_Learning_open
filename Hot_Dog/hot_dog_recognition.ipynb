{
 "cells": [
  {
   "cell_type": "markdown",
   "id": "42c52592-6d9f-424e-aaf2-7ec91280028b",
   "metadata": {},
   "source": [
    "# Hotdog or not - Image recognition Model\n",
    "The main goal of projet is to create deep program for image recognition. In this case object objects to be recognized will be hot dogs."
   ]
  },
  {
   "cell_type": "code",
   "execution_count": 7,
   "id": "694094d3-ce99-4b3f-9199-4c83dfdfb45e",
   "metadata": {},
   "outputs": [
    {
     "name": "stdout",
     "output_type": "stream",
     "text": [
      "The environment has a compatible GPU (NVIDIA GeForce GTX 950M) available.\n"
     ]
    }
   ],
   "source": [
    "#check if compatible GPU is available \n",
    "from torch.cuda import is_available, get_device_name\n",
    "\n",
    "if is_available():\n",
    "    print(f\"The environment has a compatible GPU ({get_device_name()}) available.\")\n",
    "else:\n",
    "    print(\"The environment does NOT have a compatible GPU model available.\")"
   ]
  },
  {
   "cell_type": "code",
   "execution_count": 11,
   "id": "ba12c0bd",
   "metadata": {},
   "outputs": [],
   "source": [
    "import numpy as np\n",
    "import matplotlib.pyplot as plt\n",
    "import torch\n",
    "import pandas\n",
    "\n",
    "def imshow(inp: torch.Tensor) -> None:\n",
    "    '''Imshow for torch.Tensor'''\n",
    "    inp = inp.cpu().numpy()\n",
    "    inp = inp.transpose((1,2,0))\n",
    "    mean = np.array([0.485, 0.456, 0.406])\n",
    "    std = np.array([0.229, 0.224, 0.225])\n",
    "    inp = std*inp + mean\n",
    "    inp = np.clip(inp, 0, 1)\n",
    "    plt.imshow(inp)\n",
    "    plt.show()"
   ]
  },
  {
   "cell_type": "code",
   "execution_count": 16,
   "id": "b57e2a39",
   "metadata": {},
   "outputs": [],
   "source": [
    "#import hot dog data\n",
    "import os\n",
    "from typing import Tuple\n",
    "from zipfile import ZipFile\n",
    "from PIL import Image\n",
    "\n",
    "from numpy import array\n",
    "from pandas import read_csv\n",
    "from requests import get\n",
    "from torch.utils.data import Dataset\n",
    "\n",
    "\n",
    "\n",
    "\n",
    "class HotDogDataset(Dataset):\n",
    "    \"\"\"\"\n",
    "    Child class of torch.utlis.data.Dataset.\n",
    "    This is wrapper for mapping from hotdog/not images to the target.\n",
    "    \"\"\"\n",
    "\n",
    "    def __init__(self, dir_name, transform=None) -> None:\n",
    "        \"\"\"\n",
    "        Initialize a HotdogDataset class\n",
    "        :param dir_name: The name of folder holding the data.\n",
    "        :param transform:\n",
    "        \"\"\"\n",
    "        self.transform = transform\n",
    "        #Download, save and extract data if needed.\n",
    "        if not os.path.isdir(os.path.join(os.getcwd(), f\"{dir_name}\")):\n",
    "            r = get(f\"https://cf-courses-data.s3.us.cloud-object-storage.appdomain.cloud/hotdog-not-hotdog/data/{dir_name}.zip\")\n",
    "            f = open(os.path.join(os.getcwd(), f\"{dir_name}.zip\"), mode=\"wb+\")\n",
    "            f.write(r.content)\n",
    "            f.close()\n",
    "            with ZipFile(os.path.join(os.getcwd(), f\"{dir_name}.zip\"), 'r') as zip_ref:\n",
    "                zip_ref.extractall(\"./\")\n",
    "                zip_ref.close()\n",
    "        # Load metadata.\n",
    "        self.data = read_csv(os.path.join(os.getcwd(), dir_name, f\"{dir_name}_labels.csv\"))\n",
    "        #Number of classes.\n",
    "        self.n_classes = len(self.data['y'].unique())\n",
    "\n",
    "    def __len__(self) -> int:\n",
    "        \"\"\"\n",
    "        :return: The length of the training/testing dataset.\n",
    "        \"\"\"\n",
    "        return len(self.data)\n",
    "    \n",
    "    def __getitem__(self, idx) -> Tuple[array, str]:\n",
    "        \"\"\"\n",
    "        Return the input and target at a specific index of the dataset.\n",
    "\n",
    "        :param idx: The index of the data to be returned.\n",
    "        :return: Key-value pair at the specified index.\n",
    "        \"\"\"\n",
    "        # Open corresponding Image\n",
    "        image = Image.open(os.path.join(os.getcwd(), self.data.loc[idx, 'file_name']))\n",
    "        # Retrieve the label\n",
    "        y = self.data.loc[idx, 'y']\n",
    "        # Transform the image if necessary.\n",
    "        if self.transform is not None:\n",
    "            image_ = self.transform(image)\n",
    "            image.close()\n",
    "        else:\n",
    "            image_ = array(image)\n",
    "            image.close()\n",
    "        return image_, y\n"
   ]
  },
  {
   "cell_type": "code",
   "execution_count": null,
   "id": "1cc720fc",
   "metadata": {},
   "outputs": [],
   "source": []
  }
 ],
 "metadata": {
  "kernelspec": {
   "display_name": "base",
   "language": "python",
   "name": "python3"
  },
  "language_info": {
   "codemirror_mode": {
    "name": "ipython",
    "version": 3
   },
   "file_extension": ".py",
   "mimetype": "text/x-python",
   "name": "python",
   "nbconvert_exporter": "python",
   "pygments_lexer": "ipython3",
   "version": "3.9.13"
  },
  "vscode": {
   "interpreter": {
    "hash": "a1a4c899fa19f7c38d4b04980e889ca9cf53cb5c59cb44354043cbb9f1c08df4"
   }
  }
 },
 "nbformat": 4,
 "nbformat_minor": 5
}
